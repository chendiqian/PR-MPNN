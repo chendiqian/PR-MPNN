{
 "cells": [
  {
   "cell_type": "code",
   "execution_count": 1,
   "id": "f023ed09-801e-4d73-aa8f-a3776ee16347",
   "metadata": {},
   "outputs": [],
   "source": [
    "%load_ext autoreload\n",
    "%autoreload 2"
   ]
  },
  {
   "cell_type": "code",
   "execution_count": 2,
   "id": "94646451-7331-4a60-95bc-b8f492784274",
   "metadata": {},
   "outputs": [],
   "source": [
    "import torch"
   ]
  },
  {
   "cell_type": "code",
   "execution_count": 3,
   "id": "a9b253b3-196f-4cf6-9592-302b4b07b1ee",
   "metadata": {},
   "outputs": [],
   "source": [
    "from torch_geometric.datasets import ZINC\n",
    "from ogb.graphproppred import PygGraphPropPredDataset"
   ]
  },
  {
   "cell_type": "code",
   "execution_count": 4,
   "id": "b1f400ee-5b69-4305-9604-57fc243000fe",
   "metadata": {},
   "outputs": [
    {
     "name": "stderr",
     "output_type": "stream",
     "text": [
      "/home/chendi/miniconda3/envs/diffsub/lib/python3.8/site-packages/torch_geometric/data/dataset.py:190: UserWarning: The `pre_transform` argument differs from the one used in the pre-processed version of this dataset. If you want to make use of another pre-processing technique, make sure to delete 'datasets/ogbg_molesol/processed' first\n",
      "  warnings.warn(\n"
     ]
    }
   ],
   "source": [
    "dataset = PygGraphPropPredDataset('ogbg-molesol',\n",
    "                                      root='datasets',)"
   ]
  },
  {
   "cell_type": "code",
   "execution_count": 5,
   "id": "b015ed5a-890f-4997-9f10-9e8d66f095fc",
   "metadata": {},
   "outputs": [],
   "source": [
    "g = dataset[0]"
   ]
  },
  {
   "cell_type": "code",
   "execution_count": null,
   "id": "393da506-e1cd-4f81-9503-888a7788f17c",
   "metadata": {},
   "outputs": [],
   "source": []
  },
  {
   "cell_type": "code",
   "execution_count": 8,
   "id": "b63d2435-a30d-4315-b37e-6d09a683cc73",
   "metadata": {},
   "outputs": [],
   "source": []
  },
  {
   "cell_type": "code",
   "execution_count": 6,
   "id": "aba9488e-3dff-4a7b-88b3-2205a2dd051c",
   "metadata": {},
   "outputs": [],
   "source": [
    "from torch_geometric.data import Batch"
   ]
  },
  {
   "cell_type": "code",
   "execution_count": 7,
   "id": "a61519c7-12aa-49d7-8ef9-36294feabaeb",
   "metadata": {},
   "outputs": [],
   "source": [
    "batch = Batch.from_data_list(dataset[:4])"
   ]
  },
  {
   "cell_type": "code",
   "execution_count": null,
   "id": "c7404c76-1f3e-422d-8cc2-aaedbca68afd",
   "metadata": {},
   "outputs": [],
   "source": []
  },
  {
   "cell_type": "code",
   "execution_count": null,
   "id": "6dfddcc0-3fb3-49cc-9ca6-e2e999149a35",
   "metadata": {},
   "outputs": [],
   "source": [
    "from models.upstream_models.fwl2_embed import Fwl2Embed\n",
    "\n",
    "model = Fwl2Embed(9,\n",
    "                 3,\n",
    "                 64,\n",
    "                 3,\n",
    "                 3,\n",
    "                 dropout=0.5,\n",
    "                 emb_edge=False,\n",
    "                 emb_spd=False,\n",
    "                 ensemble=2,\n",
    "                 use_norm=True,\n",
    "                 use_ogb_encoder=True)"
   ]
  },
  {
   "cell_type": "code",
   "execution_count": null,
   "id": "7c6615f8-fa49-4678-b018-60f70ea1affd",
   "metadata": {},
   "outputs": [],
   "source": [
    "model(batch).shape"
   ]
  },
  {
   "cell_type": "code",
   "execution_count": null,
   "id": "d22e01fd-950d-4aea-a240-d6f7ed0df616",
   "metadata": {},
   "outputs": [],
   "source": []
  },
  {
   "cell_type": "code",
   "execution_count": null,
   "id": "8770a915-3307-4bf4-b876-b89e1cd4689d",
   "metadata": {},
   "outputs": [],
   "source": []
  },
  {
   "cell_type": "code",
   "execution_count": 23,
   "id": "586d6cfb-27b5-409c-a4b7-52fb73630847",
   "metadata": {},
   "outputs": [],
   "source": [
    "x = batch.x"
   ]
  },
  {
   "cell_type": "code",
   "execution_count": 24,
   "id": "889b9a46-b820-4eb4-8078-2f14d541a6ed",
   "metadata": {},
   "outputs": [],
   "source": [
    "from torch_geometric.utils import to_dense_batch"
   ]
  },
  {
   "cell_type": "code",
   "execution_count": 25,
   "id": "da0da240-089f-4084-92a5-5ef71aee7d72",
   "metadata": {},
   "outputs": [],
   "source": [
    "x, real_nodes = to_dense_batch(x, batch.batch)"
   ]
  },
  {
   "cell_type": "code",
   "execution_count": 26,
   "id": "87f3a3b7-fc4f-479f-b43f-6e41824062dc",
   "metadata": {},
   "outputs": [
    {
     "data": {
      "text/plain": [
       "torch.Size([4, 32, 9])"
      ]
     },
     "execution_count": 26,
     "metadata": {},
     "output_type": "execute_result"
    }
   ],
   "source": [
    "x.shape"
   ]
  },
  {
   "cell_type": "code",
   "execution_count": 28,
   "id": "17f95976-56ba-4491-8871-8b487ede3030",
   "metadata": {},
   "outputs": [
    {
     "data": {
      "text/plain": [
       "tensor([[ True,  True,  True,  True,  True,  True,  True,  True,  True,  True,\n",
       "          True,  True,  True,  True,  True,  True,  True,  True,  True,  True,\n",
       "          True,  True,  True,  True,  True,  True,  True,  True,  True,  True,\n",
       "          True,  True],\n",
       "        [ True,  True,  True,  True,  True,  True,  True,  True,  True,  True,\n",
       "          True,  True,  True,  True,  True, False, False, False, False, False,\n",
       "         False, False, False, False, False, False, False, False, False, False,\n",
       "         False, False],\n",
       "        [ True,  True,  True,  True,  True,  True,  True,  True,  True,  True,\n",
       "          True, False, False, False, False, False, False, False, False, False,\n",
       "         False, False, False, False, False, False, False, False, False, False,\n",
       "         False, False],\n",
       "        [ True,  True,  True,  True,  True,  True,  True,  True,  True,  True,\n",
       "          True,  True,  True,  True,  True,  True,  True,  True,  True,  True,\n",
       "          True,  True, False, False, False, False, False, False, False, False,\n",
       "         False, False]])"
      ]
     },
     "execution_count": 28,
     "metadata": {},
     "output_type": "execute_result"
    }
   ],
   "source": [
    "real_nodes"
   ]
  },
  {
   "cell_type": "code",
   "execution_count": 47,
   "id": "42d36c1a-d4c0-4998-9aa8-950b76142683",
   "metadata": {},
   "outputs": [],
   "source": [
    "x = torch.cat((x[:, :, None, :].repeat(1, 1, 32, 1), x[:, None, :, :].repeat(1, 32, 1, 1)), dim=-1)"
   ]
  },
  {
   "cell_type": "code",
   "execution_count": null,
   "id": "759242ef-37ce-4052-9ea7-e77b2b840865",
   "metadata": {},
   "outputs": [],
   "source": []
  },
  {
   "cell_type": "markdown",
   "id": "4bafbcf0-be5d-4054-b85c-a6b4253cbbe2",
   "metadata": {},
   "source": [
    "# toy example"
   ]
  },
  {
   "cell_type": "code",
   "execution_count": 71,
   "id": "b95d8b16-c5c4-43c3-b8fc-959690fa2deb",
   "metadata": {},
   "outputs": [],
   "source": [
    "x = torch.cat([torch.tensor([[[0.1, 0.2, 0.3],\n",
    "                  [1.1, 1.2, 1.3],\n",
    "                  [2.1, 2.2, 2.3],\n",
    "                  [3.1, 3.2, 3.3]]]) for _ in range(2)], dim=0)"
   ]
  },
  {
   "cell_type": "code",
   "execution_count": 72,
   "id": "d1950081-ba87-407d-a98d-403de9bd06d6",
   "metadata": {},
   "outputs": [],
   "source": [
    "x[1] += 10"
   ]
  },
  {
   "cell_type": "code",
   "execution_count": 73,
   "id": "adbbbb92-9992-4a5f-8306-d528f93e299c",
   "metadata": {},
   "outputs": [
    {
     "data": {
      "text/plain": [
       "tensor([[0.1000, 0.2000, 0.3000],\n",
       "        [1.1000, 1.2000, 1.3000],\n",
       "        [2.1000, 2.2000, 2.3000],\n",
       "        [3.1000, 3.2000, 3.3000]])"
      ]
     },
     "execution_count": 73,
     "metadata": {},
     "output_type": "execute_result"
    }
   ],
   "source": [
    "x[0]"
   ]
  },
  {
   "cell_type": "code",
   "execution_count": null,
   "id": "547b3418-d0b0-4512-818f-306882ab9c06",
   "metadata": {},
   "outputs": [],
   "source": []
  },
  {
   "cell_type": "code",
   "execution_count": 76,
   "id": "9d275a2b-11bc-4fdb-b285-ed32d8028c49",
   "metadata": {},
   "outputs": [],
   "source": [
    "x = torch.cat((x[:, :, None, :].repeat(1, 1, 4, 1), x[:, None, :, :].repeat(1, 4, 1, 1)), dim=-1)"
   ]
  },
  {
   "cell_type": "code",
   "execution_count": 92,
   "id": "1289c2cd-3c67-4556-9b0e-6b7eee1e1719",
   "metadata": {},
   "outputs": [
    {
     "data": {
      "text/plain": [
       "tensor([1.1000, 1.2000, 1.3000, 2.1000, 2.2000, 2.3000])"
      ]
     },
     "execution_count": 92,
     "metadata": {},
     "output_type": "execute_result"
    }
   ],
   "source": []
  },
  {
   "cell_type": "code",
   "execution_count": null,
   "id": "83030854-7eab-4b55-ae19-4289f3ee7dfd",
   "metadata": {},
   "outputs": [],
   "source": []
  },
  {
   "cell_type": "code",
   "execution_count": null,
   "id": "e25d9a0a-5ca3-4b6d-ac35-546626ef984c",
   "metadata": {},
   "outputs": [],
   "source": []
  },
  {
   "cell_type": "code",
   "execution_count": 96,
   "id": "8ab1c215-f653-44b6-bbc0-4f08c79d89e0",
   "metadata": {},
   "outputs": [],
   "source": [
    "real_nodes = torch.tensor([[True, True, False, False],\n",
    "                           [True, True, True, False]])"
   ]
  },
  {
   "cell_type": "code",
   "execution_count": null,
   "id": "bbf812a9-d746-4f78-96e4-65872fb833ce",
   "metadata": {},
   "outputs": [],
   "source": []
  },
  {
   "cell_type": "code",
   "execution_count": 99,
   "id": "7713e629-51d1-41aa-a280-0a5c1e71891d",
   "metadata": {},
   "outputs": [],
   "source": [
    "real_nodes = (real_nodes[:, :, None] * real_nodes[:, None, :])"
   ]
  },
  {
   "cell_type": "code",
   "execution_count": 103,
   "id": "21ddac79-73ca-4121-afe1-252b60f5de83",
   "metadata": {},
   "outputs": [
    {
     "data": {
      "text/plain": [
       "tensor([[ 0.1000,  0.2000,  0.3000,  0.1000,  0.2000,  0.3000],\n",
       "        [ 0.1000,  0.2000,  0.3000,  1.1000,  1.2000,  1.3000],\n",
       "        [ 1.1000,  1.2000,  1.3000,  0.1000,  0.2000,  0.3000],\n",
       "        [ 1.1000,  1.2000,  1.3000,  1.1000,  1.2000,  1.3000],\n",
       "        [10.1000, 10.2000, 10.3000, 10.1000, 10.2000, 10.3000],\n",
       "        [10.1000, 10.2000, 10.3000, 11.1000, 11.2000, 11.3000],\n",
       "        [10.1000, 10.2000, 10.3000, 12.1000, 12.2000, 12.3000],\n",
       "        [11.1000, 11.2000, 11.3000, 10.1000, 10.2000, 10.3000],\n",
       "        [11.1000, 11.2000, 11.3000, 11.1000, 11.2000, 11.3000],\n",
       "        [11.1000, 11.2000, 11.3000, 12.1000, 12.2000, 12.3000],\n",
       "        [12.1000, 12.2000, 12.3000, 10.1000, 10.2000, 10.3000],\n",
       "        [12.1000, 12.2000, 12.3000, 11.1000, 11.2000, 11.3000],\n",
       "        [12.1000, 12.2000, 12.3000, 12.1000, 12.2000, 12.3000]])"
      ]
     },
     "execution_count": 103,
     "metadata": {},
     "output_type": "execute_result"
    }
   ],
   "source": [
    "x[real_nodes]"
   ]
  },
  {
   "cell_type": "code",
   "execution_count": null,
   "id": "06562668-9e02-44c4-9789-2a1aed8bbfd5",
   "metadata": {},
   "outputs": [],
   "source": []
  },
  {
   "cell_type": "code",
   "execution_count": 127,
   "id": "1867a9cb-63a0-4400-8767-bc1464a08a2f",
   "metadata": {},
   "outputs": [
    {
     "data": {
      "text/plain": [
       "tensor([[10.1000, 10.1000, 10.1000, 10.1000],\n",
       "        [11.1000, 11.1000, 11.1000, 11.1000],\n",
       "        [12.1000, 12.1000, 12.1000, 12.1000],\n",
       "        [13.1000, 13.1000, 13.1000, 13.1000]])"
      ]
     },
     "execution_count": 127,
     "metadata": {},
     "output_type": "execute_result"
    }
   ],
   "source": [
    "x[1][..., 0]"
   ]
  },
  {
   "cell_type": "code",
   "execution_count": 125,
   "id": "82b3fa6b-263c-4e6f-839e-c1258bceffb9",
   "metadata": {},
   "outputs": [
    {
     "data": {
      "text/plain": [
       "tensor([[0.1000, 0.2000, 0.3000, 0.1000, 0.2000, 0.3000],\n",
       "        [0.1000, 0.2000, 0.3000, 1.1000, 1.2000, 1.3000],\n",
       "        [1.1000, 1.2000, 1.3000, 0.1000, 0.2000, 0.3000],\n",
       "        [1.1000, 1.2000, 1.3000, 1.1000, 1.2000, 1.3000]])"
      ]
     },
     "execution_count": 125,
     "metadata": {},
     "output_type": "execute_result"
    }
   ],
   "source": [
    "x[0][real_nodes[0]]"
   ]
  },
  {
   "cell_type": "code",
   "execution_count": 128,
   "id": "10b1d958-7742-4790-a11d-d8f734eea953",
   "metadata": {},
   "outputs": [
    {
     "data": {
      "text/plain": [
       "tensor([[ 0.1000,  0.2000,  0.3000,  0.1000,  0.2000,  0.3000],\n",
       "        [ 0.1000,  0.2000,  0.3000,  1.1000,  1.2000,  1.3000],\n",
       "        [ 1.1000,  1.2000,  1.3000,  0.1000,  0.2000,  0.3000],\n",
       "        [ 1.1000,  1.2000,  1.3000,  1.1000,  1.2000,  1.3000],\n",
       "        [10.1000, 10.2000, 10.3000, 10.1000, 10.2000, 10.3000],\n",
       "        [10.1000, 10.2000, 10.3000, 11.1000, 11.2000, 11.3000],\n",
       "        [10.1000, 10.2000, 10.3000, 12.1000, 12.2000, 12.3000],\n",
       "        [11.1000, 11.2000, 11.3000, 10.1000, 10.2000, 10.3000],\n",
       "        [11.1000, 11.2000, 11.3000, 11.1000, 11.2000, 11.3000],\n",
       "        [11.1000, 11.2000, 11.3000, 12.1000, 12.2000, 12.3000],\n",
       "        [12.1000, 12.2000, 12.3000, 10.1000, 10.2000, 10.3000],\n",
       "        [12.1000, 12.2000, 12.3000, 11.1000, 11.2000, 11.3000],\n",
       "        [12.1000, 12.2000, 12.3000, 12.1000, 12.2000, 12.3000]])"
      ]
     },
     "execution_count": 128,
     "metadata": {},
     "output_type": "execute_result"
    }
   ],
   "source": [
    "x[real_nodes]"
   ]
  },
  {
   "cell_type": "code",
   "execution_count": null,
   "id": "670510ee-5405-4ff1-ba23-548d67db721e",
   "metadata": {},
   "outputs": [],
   "source": []
  },
  {
   "cell_type": "code",
   "execution_count": null,
   "id": "b05245dc-7dea-412c-b3d4-61a38211e1de",
   "metadata": {},
   "outputs": [],
   "source": []
  },
  {
   "cell_type": "code",
   "execution_count": 15,
   "id": "392d848e-6653-42a5-9317-1f1f45954842",
   "metadata": {},
   "outputs": [],
   "source": [
    "from torch_geometric.utils import is_undirected\n",
    "\n",
    "assert is_undirected(g.edge_index, num_nodes=g.num_nodes)"
   ]
  },
  {
   "cell_type": "code",
   "execution_count": null,
   "id": "89c57905-36bd-4024-950f-49c2ed221554",
   "metadata": {},
   "outputs": [],
   "source": []
  },
  {
   "cell_type": "code",
   "execution_count": 17,
   "id": "43836041-e736-4c2a-b3e5-f1f9be715edd",
   "metadata": {},
   "outputs": [],
   "source": [
    "from models.upstream_models.linear_embed import LinearEmbed\n",
    "\n",
    "model = LinearEmbed(32,\n",
    "                 3,\n",
    "                 64,\n",
    "                 3,\n",
    "                 3,\n",
    "                 dropout=0.,\n",
    "                 emb_edge=False,\n",
    "                 emb_spd=False,\n",
    "                 ensemble=1,\n",
    "                 use_bn=False,\n",
    "                 use_ogb_encoder=True)"
   ]
  },
  {
   "cell_type": "code",
   "execution_count": 18,
   "id": "5f61d97b-cbfb-47b2-9786-1f74af289ff9",
   "metadata": {},
   "outputs": [
    {
     "data": {
      "text/plain": [
       "<All keys matched successfully>"
      ]
     },
     "execution_count": 18,
     "metadata": {},
     "output_type": "execute_result"
    }
   ],
   "source": [
    "model.load_state_dict(torch.load('logs/ogbg-molesol_ogb_gin_outlayer_5_innlayer_3_IMLE_H64L_3_3DP0.0BetaNone_encoding_policy_soft_all_samplek_None_sub2nAggr_add_emb_x_[300, 300]/run0_fold0_2023-02-09 150134.023956/embd_model_300.pt'))"
   ]
  },
  {
   "cell_type": "code",
   "execution_count": 23,
   "id": "31534c3e-e1f2-4896-898c-54a3f187a667",
   "metadata": {},
   "outputs": [
    {
     "data": {
      "text/plain": [
       "LinearEmbed(\n",
       "  (atom_encoder): AtomEncoder(\n",
       "    (atom_embedding_list): ModuleList(\n",
       "      (0): Embedding(119, 64)\n",
       "      (1): Embedding(4, 64)\n",
       "      (2): Embedding(12, 64)\n",
       "      (3): Embedding(12, 64)\n",
       "      (4): Embedding(10, 64)\n",
       "      (5): Embedding(6, 64)\n",
       "      (6): Embedding(6, 64)\n",
       "      (7): Embedding(2, 64)\n",
       "      (8): Embedding(2, 64)\n",
       "    )\n",
       "  )\n",
       "  (bond_encoder): BondEncoder(\n",
       "    (bond_embedding_list): ModuleList(\n",
       "      (0): Embedding(5, 64)\n",
       "      (1): Embedding(6, 64)\n",
       "      (2): Embedding(2, 64)\n",
       "    )\n",
       "  )\n",
       "  (gnn): ModuleList(\n",
       "    (0): GINEConv()\n",
       "    (1): GINEConv()\n",
       "    (2): GINEConv()\n",
       "  )\n",
       "  (mlp): MLP(\n",
       "    (mlp): Sequential(\n",
       "      (0): Linear(in_features=128, out_features=64, bias=True)\n",
       "      (1): ReLU()\n",
       "      (2): Dropout(p=0.0, inplace=False)\n",
       "      (3): Linear(in_features=64, out_features=64, bias=True)\n",
       "      (4): ReLU()\n",
       "      (5): Dropout(p=0.0, inplace=False)\n",
       "      (6): Linear(in_features=64, out_features=1, bias=False)\n",
       "    )\n",
       "  )\n",
       ")"
      ]
     },
     "execution_count": 23,
     "metadata": {},
     "output_type": "execute_result"
    }
   ],
   "source": [
    "model.eval()"
   ]
  },
  {
   "cell_type": "code",
   "execution_count": 24,
   "id": "5b77e502-2a7c-4966-9e78-d45a28afdf64",
   "metadata": {},
   "outputs": [
    {
     "data": {
      "text/plain": [
       "tensor([[0.0332],\n",
       "        [0.0337],\n",
       "        [0.0316],\n",
       "        ...,\n",
       "        [0.0323],\n",
       "        [0.0317],\n",
       "        [0.0323]], grad_fn=<MmBackward0>)"
      ]
     },
     "execution_count": 24,
     "metadata": {},
     "output_type": "execute_result"
    }
   ],
   "source": [
    "model(g)"
   ]
  },
  {
   "cell_type": "code",
   "execution_count": null,
   "id": "6068736a-a40f-45f4-bf1d-e9afec276ff2",
   "metadata": {},
   "outputs": [],
   "source": []
  },
  {
   "cell_type": "code",
   "execution_count": 22,
   "id": "ed6edd11-b304-424e-acb6-48808ba4001c",
   "metadata": {},
   "outputs": [],
   "source": [
    "model.reset_parameters()"
   ]
  },
  {
   "cell_type": "code",
   "execution_count": null,
   "id": "8df60d85-e3e8-406e-bf96-5eb6cc8a4a62",
   "metadata": {},
   "outputs": [],
   "source": []
  },
  {
   "cell_type": "code",
   "execution_count": null,
   "id": "fb65fa0a-b7c4-4278-a2b4-ec181153d7a5",
   "metadata": {},
   "outputs": [],
   "source": []
  },
  {
   "cell_type": "code",
   "execution_count": 18,
   "id": "3d586632-d0da-4f83-9fb0-73368ad8db89",
   "metadata": {},
   "outputs": [],
   "source": [
    "a = torch.rand(128, 33, 33, 256).cuda()"
   ]
  },
  {
   "cell_type": "code",
   "execution_count": 19,
   "id": "2df774c5-25d8-4d82-ae39-3bfeacc400b2",
   "metadata": {},
   "outputs": [],
   "source": [
    "b = torch.rand(128, 33, 33, 256).cuda()"
   ]
  },
  {
   "cell_type": "code",
   "execution_count": null,
   "id": "56a7a68a-9c80-4ec9-9962-d3dd1fce2bdf",
   "metadata": {},
   "outputs": [],
   "source": []
  },
  {
   "cell_type": "code",
   "execution_count": null,
   "id": "3903bdcc-210b-4383-888a-8479f6531b09",
   "metadata": {},
   "outputs": [],
   "source": [
    "torch.einsum('bijl,bjkl->bikl', a, b)"
   ]
  },
  {
   "cell_type": "code",
   "execution_count": null,
   "id": "b215feb1-a821-498e-b7ca-ca38287d29d0",
   "metadata": {},
   "outputs": [],
   "source": []
  }
 ],
 "metadata": {
  "kernelspec": {
   "display_name": "Python 3 (ipykernel)",
   "language": "python",
   "name": "python3"
  },
  "language_info": {
   "codemirror_mode": {
    "name": "ipython",
    "version": 3
   },
   "file_extension": ".py",
   "mimetype": "text/x-python",
   "name": "python",
   "nbconvert_exporter": "python",
   "pygments_lexer": "ipython3",
   "version": "3.8.15"
  }
 },
 "nbformat": 4,
 "nbformat_minor": 5
}
