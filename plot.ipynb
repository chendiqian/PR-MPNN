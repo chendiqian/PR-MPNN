{
 "cells": [
  {
   "cell_type": "code",
   "execution_count": 1,
   "id": "8f5b2fc7-a6a4-481b-a004-8ac80653e2d2",
   "metadata": {
    "tags": []
   },
   "outputs": [],
   "source": [
    "import torch\n",
    "from torch_geometric.data import Batch\n",
    "import numpy as np"
   ]
  },
  {
   "cell_type": "code",
   "execution_count": null,
   "id": "eb8858fd-889e-43ef-8924-4e1344eee4c7",
   "metadata": {
    "tags": []
   },
   "outputs": [],
   "source": []
  },
  {
   "cell_type": "code",
   "execution_count": 2,
   "id": "7ed9d0ec-70d3-4596-8e9f-e12516950aa5",
   "metadata": {
    "tags": []
   },
   "outputs": [],
   "source": [
    "batch_graph = torch.load('plots/graph_100.pt')"
   ]
  },
  {
   "cell_type": "code",
   "execution_count": 3,
   "id": "1c88c3ff-a858-401b-9c52-b2006dcf9958",
   "metadata": {
    "tags": []
   },
   "outputs": [],
   "source": [
    "original_graph = Batch.to_data_list(batch_graph.org)[1]"
   ]
  },
  {
   "cell_type": "code",
   "execution_count": 4,
   "id": "d1689dcf-22fb-46aa-932d-a80b3e01cd57",
   "metadata": {
    "tags": []
   },
   "outputs": [],
   "source": [
    "rewired = batch_graph.candidates[0]"
   ]
  },
  {
   "cell_type": "code",
   "execution_count": 5,
   "id": "703c0072-c656-4f02-9ec1-973150498c4b",
   "metadata": {
    "tags": []
   },
   "outputs": [],
   "source": [
    "rewired._inc_dict['edge_weight'] = rewired._inc_dict['edge_index'].new_zeros(rewired._inc_dict['edge_index'].shape)"
   ]
  },
  {
   "cell_type": "code",
   "execution_count": 6,
   "id": "e5c1d3fa-adcd-4237-b9be-9b869dcda243",
   "metadata": {
    "tags": []
   },
   "outputs": [],
   "source": [
    "rewired._slice_dict['edge_weight'] = rewired._slice_dict['edge_index']"
   ]
  },
  {
   "cell_type": "code",
   "execution_count": null,
   "id": "d0de736f-c252-4dc7-97f1-737dd2718fd3",
   "metadata": {},
   "outputs": [],
   "source": []
  },
  {
   "cell_type": "code",
   "execution_count": 7,
   "id": "724fc3f8-405a-45e6-bef8-ba97b3dc3598",
   "metadata": {
    "tags": []
   },
   "outputs": [],
   "source": [
    "rewired = Batch.to_data_list(rewired)[1]"
   ]
  },
  {
   "cell_type": "code",
   "execution_count": 8,
   "id": "0f7c4a34-724f-4f17-946f-4aa2e7ee29d0",
   "metadata": {
    "tags": []
   },
   "outputs": [],
   "source": [
    "mask = rewired.edge_weight.nonzero().flatten()"
   ]
  },
  {
   "cell_type": "code",
   "execution_count": 9,
   "id": "45b01848-a062-4453-9d46-766c9a258b42",
   "metadata": {
    "tags": []
   },
   "outputs": [],
   "source": [
    "rewired.edge_index = rewired.edge_index[:, mask]"
   ]
  },
  {
   "cell_type": "code",
   "execution_count": null,
   "id": "5793ee2e-5888-42cd-bac6-7ce1a2552d8f",
   "metadata": {},
   "outputs": [],
   "source": []
  },
  {
   "cell_type": "code",
   "execution_count": 10,
   "id": "81f92803-1cf9-465e-8c7f-57abfc594608",
   "metadata": {
    "tags": []
   },
   "outputs": [],
   "source": [
    "from torch_geometric.utils import to_networkx\n",
    "import networkx as nx"
   ]
  },
  {
   "cell_type": "code",
   "execution_count": 11,
   "id": "8882f104-873b-40e2-962d-dfed997290ec",
   "metadata": {
    "tags": []
   },
   "outputs": [],
   "source": [
    "rewired_nx = to_networkx(rewired, remove_self_loops=True)\n",
    "org_nx = to_networkx(original_graph, remove_self_loops=True)"
   ]
  },
  {
   "cell_type": "code",
   "execution_count": 12,
   "id": "0c0996f0-553e-434a-a6e6-af1293d75470",
   "metadata": {
    "tags": []
   },
   "outputs": [],
   "source": [
    "layout = dict()\n",
    "\n",
    "layout[0] = np.array([0., 0.])\n",
    "\n",
    "layout[1] = np.array([0., 0.2])\n",
    "layout[16] = np.array([0., -0.2])\n",
    "\n",
    "layout[2] = np.array([0.21213203435596426, 0.21213203435596423])\n",
    "layout[9] = np.array([-0.21213203435596423, 0.21213203435596426])\n",
    "layout[17] = np.array([-0.2121320343559643, -0.21213203435596423])\n",
    "layout[24] = np.array([0.2121320343559642, -0.2121320343559643])\n",
    "\n",
    "layout[3] = np.array([0.36955181300451473, 0.15307337294603593])\n",
    "layout[6] = np.array([0.15307337294603596, 0.36955181300451473])\n",
    "layout[10] = np.array([-0.1530733729460359, 0.36955181300451473])\n",
    "layout[13] = np.array([-0.36955181300451473, 0.15307337294603596],)\n",
    "layout[18] = np.array([-0.3695518130045148, -0.15307337294603587])\n",
    "layout[21] = np.array([-0.15307337294603615, -0.3695518130045146])\n",
    "layout[25] = np.array([0.15307337294603568, -0.3695518130045148])\n",
    "layout[28] = np.array([0.3695518130045146, -0.15307337294603618])\n",
    "\n",
    "\n",
    "layout[4] = np.array([0.5884711682419382, 0.11705419320967694])\n",
    "layout[5] = np.array([0.4988817673815271, 0.3333421398117613])\n",
    "layout[7] = np.array([0.33334213981176136, 0.4988817673815271])\n",
    "layout[8] = np.array([0.117054193209677, 0.5884711682419382])\n",
    "layout[11] = np.array([-0.11705419320967692, 0.5884711682419382])\n",
    "layout[12] = np.array([-0.33334213981176114, 0.49888176738152723])\n",
    "layout[14] = np.array([-0.498881767381527, 0.3333421398117615])\n",
    "layout[15] = np.array([-0.5884711682419382, 0.11705419320967717])\n",
    "layout[19] = np.array([-0.5884711682419383, -0.11705419320967675])\n",
    "layout[20] = np.array([-0.49888176738152723, -0.33334213981176114])\n",
    "layout[22] = np.array( [-0.3333421398117613, -0.4988817673815271])\n",
    "layout[23] = np.array([-0.11705419320967667, -0.5884711682419383])\n",
    "layout[26] = np.array( [0.1170541932096775, -0.5884711682419381])\n",
    "layout[27] = np.array([0.33334213981176203, -0.4988817673815267])\n",
    "layout[29] = np.array([0.49888176738152773, -0.3333421398117604])\n",
    "layout[30] = np.array( [0.5884711682419385, -0.11705419320967567])"
   ]
  },
  {
   "cell_type": "code",
   "execution_count": 13,
   "id": "c0c6d842-4f84-43d8-bd61-d5c368895d22",
   "metadata": {
    "tags": []
   },
   "outputs": [],
   "source": [
    "import math"
   ]
  },
  {
   "cell_type": "code",
   "execution_count": 14,
   "id": "ca5b3732-c469-44ea-973c-c0831aac2d48",
   "metadata": {
    "tags": []
   },
   "outputs": [],
   "source": [
    "def generate_dots(num_dots, r):\n",
    "    angle = 2 * math.pi / num_dots / 2.\n",
    "    dots = []\n",
    "    for i in range(num_dots):\n",
    "        dots.append([math.cos(angle) * r, math.sin(angle) * r])\n",
    "        angle += 2 * math.pi / num_dots\n",
    "    return dots"
   ]
  },
  {
   "cell_type": "code",
   "execution_count": null,
   "id": "2d7cd104-f0da-4b7b-a113-b61755d4f61c",
   "metadata": {},
   "outputs": [],
   "source": []
  },
  {
   "cell_type": "code",
   "execution_count": 15,
   "id": "7429146b-909f-4368-ac8f-9adc47db8e35",
   "metadata": {
    "tags": []
   },
   "outputs": [],
   "source": [
    "# https://matplotlib.org/stable/tutorials/colors/colors.html"
   ]
  },
  {
   "cell_type": "code",
   "execution_count": 16,
   "id": "74e45a8f-cf83-4654-9b7f-e635ac43e747",
   "metadata": {
    "tags": []
   },
   "outputs": [],
   "source": [
    "node_colors_int = rewired.x[:, 1].detach().cpu().squeeze()\n",
    "leaf_1 = torch.where(node_colors_int == 1)[0].numpy()\n",
    "root = np.zeros(1, dtype=np.int64)\n",
    "intermediate = np.array([1,2,3,6,9,10,13,17,18,21,16,24,25,28])\n",
    "leaf_0 = np.setdiff1d(np.arange(31), np.union1d(np.union1d(root, intermediate), leaf_1))"
   ]
  },
  {
   "cell_type": "code",
   "execution_count": null,
   "id": "e9d3be2b-7c4f-4a99-9a06-ac20a0ecfd7c",
   "metadata": {},
   "outputs": [],
   "source": []
  },
  {
   "cell_type": "code",
   "execution_count": 24,
   "id": "48dfb501-38c5-4db8-a208-d7b7c39db801",
   "metadata": {
    "tags": []
   },
   "outputs": [
    {
     "data": {
      "image/png": "[encoded data removed]",
      "text/plain": [
       "<Figure size 800x400 with 2 Axes>"
      ]
     },
     "metadata": {},
     "output_type": "display_data"
    }
   ],
   "source": [
    "import matplotlib.pyplot as plt\n",
    "\n",
    "fig, axs = plt.subplots(1, 2, figsize=(8, 4))\n",
    "axs[0].axis('off')\n",
    "axs[0].axis('equal')\n",
    "nx.draw_networkx_nodes(org_nx, pos=layout, nodelist=root, node_color='black', ax=axs[0])\n",
    "nx.draw_networkx_edges(org_nx, pos=layout, edgelist=list(org_nx.edges), width=1, edge_color='k', ax=axs[0], arrowsize=7)\n",
    "nx.draw_networkx_nodes(org_nx, pos=layout, nodelist=leaf_1, node_color='#FFD700', ax=axs[0], node_shape='h')\n",
    "nx.draw_networkx_nodes(org_nx, pos=layout, nodelist=leaf_0, node_color='#7FFFD4', ax=axs[0], node_shape='s')\n",
    "nx.draw_networkx_nodes(org_nx, pos=layout, nodelist=intermediate, node_color='grey', ax=axs[0], node_shape='o')\n",
    "\n",
    "axs[1].axis('off')\n",
    "axs[1].axis('equal')\n",
    "nx.draw_networkx_nodes(rewired_nx, pos=layout, nodelist=root, node_color='black', ax=axs[1])\n",
    "nx.draw_networkx_edges(rewired_nx, pos=layout, edgelist=list(rewired_nx.edges), width=1, edge_color='k', ax=axs[1], arrowsize=7)\n",
    "nx.draw_networkx_nodes(rewired_nx, pos=layout, nodelist=leaf_1, node_color='#FFD700', ax=axs[1], node_shape='h')\n",
    "nx.draw_networkx_nodes(rewired_nx, pos=layout, nodelist=leaf_0, node_color='#7FFFD4', ax=axs[1], node_shape='s')\n",
    "nx.draw_networkx_nodes(rewired_nx, pos=layout, nodelist=intermediate, node_color='grey', ax=axs[1], node_shape='o')\n",
    "fig.tight_layout()\n",
    "\n",
    "plt.savefig('leafcount.pdf', dpi=500)"
   ]
  },
  {
   "cell_type": "code",
   "execution_count": null,
   "id": "9728edd9-d5af-4aae-a022-7a884fe3a89b",
   "metadata": {},
   "outputs": [],
   "source": []
  },
  {
   "cell_type": "code",
   "execution_count": null,
   "id": "3d8057b8-b514-4f2f-9a42-8881e8c84335",
   "metadata": {},
   "outputs": [],
   "source": []
  }
 ],
 "metadata": {
  "kernelspec": {
   "display_name": "Python 3 (ipykernel)",
   "language": "python",
   "name": "python3"
  },
  "language_info": {
   "codemirror_mode": {
    "name": "ipython",
    "version": 3
   },
   "file_extension": ".py",
   "mimetype": "text/x-python",
   "name": "python",
   "nbconvert_exporter": "python",
   "pygments_lexer": "ipython3",
   "version": "3.10.11"
  }
 },
 "nbformat": 4,
 "nbformat_minor": 5
}
