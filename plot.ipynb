{
 "cells": [
  {
   "cell_type": "code",
   "execution_count": null,
   "id": "8f5b2fc7-a6a4-481b-a004-8ac80653e2d2",
   "metadata": {
    "tags": []
   },
   "outputs": [],
   "source": [
    "import torch\n",
    "from torch_geometric.data import Batch\n",
    "import numpy as np\n",
    "from torch_geometric.utils import to_networkx\n",
    "import networkx as nx"
   ]
  },
  {
   "cell_type": "code",
   "execution_count": null,
   "id": "eb8858fd-889e-43ef-8924-4e1344eee4c7",
   "metadata": {
    "tags": []
   },
   "outputs": [],
   "source": []
  },
  {
   "cell_type": "code",
   "execution_count": null,
   "id": "7ed9d0ec-70d3-4596-8e9f-e12516950aa5",
   "metadata": {
    "tags": []
   },
   "outputs": [],
   "source": [
    "batch_graph = torch.load('plots/graph_100.pt')"
   ]
  },
  {
   "cell_type": "code",
   "execution_count": null,
   "id": "1c88c3ff-a858-401b-9c52-b2006dcf9958",
   "metadata": {
    "tags": []
   },
   "outputs": [],
   "source": [
    "original_graph = Batch.to_data_list(batch_graph.org)[1]"
   ]
  },
  {
   "cell_type": "code",
   "execution_count": null,
   "id": "d1689dcf-22fb-46aa-932d-a80b3e01cd57",
   "metadata": {
    "tags": []
   },
   "outputs": [],
   "source": [
    "rewired = batch_graph.candidates[0]"
   ]
  },
  {
   "cell_type": "code",
   "execution_count": null,
   "id": "d0de736f-c252-4dc7-97f1-737dd2718fd3",
   "metadata": {},
   "outputs": [],
   "source": []
  },
  {
   "cell_type": "code",
   "execution_count": null,
   "id": "724fc3f8-405a-45e6-bef8-ba97b3dc3598",
   "metadata": {
    "tags": []
   },
   "outputs": [],
   "source": [
    "rewired = Batch.to_data_list(rewired)[1]"
   ]
  },
  {
   "cell_type": "code",
   "execution_count": null,
   "id": "0f7c4a34-724f-4f17-946f-4aa2e7ee29d0",
   "metadata": {
    "tags": []
   },
   "outputs": [],
   "source": [
    "mask = rewired.edge_weight.nonzero().flatten()"
   ]
  },
  {
   "cell_type": "code",
   "execution_count": null,
   "id": "45b01848-a062-4453-9d46-766c9a258b42",
   "metadata": {
    "tags": []
   },
   "outputs": [],
   "source": [
    "rewired.edge_index = rewired.edge_index[:, mask]"
   ]
  },
  {
   "cell_type": "code",
   "execution_count": null,
   "id": "1c8c45da-d885-4f25-84a8-e7a78032a4dd",
   "metadata": {},
   "outputs": [],
   "source": []
  },
  {
   "cell_type": "code",
   "execution_count": null,
   "id": "a061892a-b204-41ab-8cf9-a2cfa12b923e",
   "metadata": {
    "tags": []
   },
   "outputs": [],
   "source": [
    "layout = {i: pos for i, pos in enumerate(original_graph.nx_layout.cpu().numpy())}"
   ]
  },
  {
   "cell_type": "code",
   "execution_count": null,
   "id": "6c8e23ad-4aea-41fc-8689-14feb2f7c191",
   "metadata": {},
   "outputs": [],
   "source": []
  },
  {
   "cell_type": "code",
   "execution_count": null,
   "id": "8882f104-873b-40e2-962d-dfed997290ec",
   "metadata": {
    "tags": []
   },
   "outputs": [],
   "source": [
    "rewired_nx = to_networkx(rewired, remove_self_loops=True)\n",
    "org_nx = to_networkx(original_graph, remove_self_loops=True)"
   ]
  },
  {
   "cell_type": "code",
   "execution_count": null,
   "id": "c0c6d842-4f84-43d8-bd61-d5c368895d22",
   "metadata": {
    "tags": []
   },
   "outputs": [],
   "source": []
  },
  {
   "cell_type": "code",
   "execution_count": null,
   "id": "7429146b-909f-4368-ac8f-9adc47db8e35",
   "metadata": {
    "tags": []
   },
   "outputs": [],
   "source": [
    "# https://matplotlib.org/stable/tutorials/colors/colors.html"
   ]
  },
  {
   "cell_type": "code",
   "execution_count": null,
   "id": "74e45a8f-cf83-4654-9b7f-e635ac43e747",
   "metadata": {
    "tags": []
   },
   "outputs": [],
   "source": [
    "node_colors_int = rewired.x[:, 1].detach().cpu().squeeze()\n",
    "leaf_1 = torch.where(node_colors_int == 1)[0].numpy()\n",
    "root = np.zeros(1, dtype=np.int64)\n",
    "intermediate = np.array([1,2,3,6,9,10,13,17,18,21,16,24,25,28])\n",
    "leaf_0 = np.setdiff1d(np.arange(31), np.union1d(np.union1d(root, intermediate), leaf_1))"
   ]
  },
  {
   "cell_type": "code",
   "execution_count": null,
   "id": "e9d3be2b-7c4f-4a99-9a06-ac20a0ecfd7c",
   "metadata": {},
   "outputs": [],
   "source": []
  },
  {
   "cell_type": "code",
   "execution_count": null,
   "id": "48dfb501-38c5-4db8-a208-d7b7c39db801",
   "metadata": {
    "tags": []
   },
   "outputs": [],
   "source": [
    "import matplotlib.pyplot as plt\n",
    "\n",
    "fig, axs = plt.subplots(1, 2, figsize=(8, 4))\n",
    "axs[0].axis('off')\n",
    "axs[0].axis('equal')\n",
    "nx.draw_networkx_nodes(org_nx, pos=layout, nodelist=root, node_color='black', ax=axs[0])\n",
    "nx.draw_networkx_edges(org_nx, pos=layout, edgelist=list(org_nx.edges), width=1, edge_color='k', ax=axs[0], arrowsize=7)\n",
    "nx.draw_networkx_nodes(org_nx, pos=layout, nodelist=leaf_1, node_color='#FFD700', ax=axs[0], node_shape='h')\n",
    "nx.draw_networkx_nodes(org_nx, pos=layout, nodelist=leaf_0, node_color='#7FFFD4', ax=axs[0], node_shape='s')\n",
    "nx.draw_networkx_nodes(org_nx, pos=layout, nodelist=intermediate, node_color='grey', ax=axs[0], node_shape='o')\n",
    "\n",
    "axs[1].axis('off')\n",
    "axs[1].axis('equal')\n",
    "nx.draw_networkx_nodes(rewired_nx, pos=layout, nodelist=root, node_color='black', ax=axs[1])\n",
    "nx.draw_networkx_edges(rewired_nx, pos=layout, edgelist=list(rewired_nx.edges), width=1, edge_color='k', ax=axs[1], arrowsize=7)\n",
    "nx.draw_networkx_nodes(rewired_nx, pos=layout, nodelist=leaf_1, node_color='#FFD700', ax=axs[1], node_shape='h')\n",
    "nx.draw_networkx_nodes(rewired_nx, pos=layout, nodelist=leaf_0, node_color='#7FFFD4', ax=axs[1], node_shape='s')\n",
    "nx.draw_networkx_nodes(rewired_nx, pos=layout, nodelist=intermediate, node_color='grey', ax=axs[1], node_shape='o')\n",
    "fig.tight_layout()\n",
    "\n",
    "plt.savefig('leafcount.pdf', dpi=500)"
   ]
  },
  {
   "cell_type": "code",
   "execution_count": null,
   "id": "9728edd9-d5af-4aae-a022-7a884fe3a89b",
   "metadata": {},
   "outputs": [],
   "source": []
  },
  {
   "cell_type": "code",
   "execution_count": null,
   "id": "3d8057b8-b514-4f2f-9a42-8881e8c84335",
   "metadata": {},
   "outputs": [],
   "source": []
  }
 ],
 "metadata": {
  "kernelspec": {
   "display_name": "Python 3 (ipykernel)",
   "language": "python",
   "name": "python3"
  },
  "language_info": {
   "codemirror_mode": {
    "name": "ipython",
    "version": 3
   },
   "file_extension": ".py",
   "mimetype": "text/x-python",
   "name": "python",
   "nbconvert_exporter": "python",
   "pygments_lexer": "ipython3",
   "version": "3.10.11"
  }
 },
 "nbformat": 4,
 "nbformat_minor": 5
}
